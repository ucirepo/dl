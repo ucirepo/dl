{
 "cells": [
  {
   "cell_type": "code",
   "execution_count": null,
   "metadata": {
    "colab": {
     "base_uri": "https://localhost:8080/"
    },
    "id": "LS_7DyJTSr1F",
    "outputId": "74f9dd2d-615b-4cd3-fd20-4ebe2c3d5fd1"
   },
   "outputs": [
    {
     "name": "stdout",
     "output_type": "stream",
     "text": [
      "Vocabulary: {'the': 1, 'was': 2, 'is': 3, \"i'm\": 4, 'i': 5, 'this': 6, 'movie': 7, 'service': 8, 'today': 9, 'love': 10, 'terrible': 11, 'food': 12, 'amazing': 13, 'hate': 14, 'mondays': 15, 'great': 16, 'customer': 17, 'weather': 18, 'awful': 19, 'feeling': 20, 'happy': 21, 'new': 22, 'restaurant': 23, 'disappointing': 24, 'book': 25, 'captivating': 26, 'frustrated': 27, 'with': 28, 'traffic': 29, 'concert': 30, 'fantastic': 31, 'at': 32, 'hotel': 33, 'poor': 34, 'indifferent': 35, 'about': 36, 'outcome': 37, 'presentation': 38, 'boring': 39, 'vacation': 40, 'unforgettable': 41}\n",
      "[[5, 10, 6, 7], [6, 7, 3, 11], [1, 12, 2, 13], [5, 14, 15], [16, 17, 8], [1, 18, 9, 3, 19], [4, 20, 21, 9], [1, 22, 23, 3, 24], [1, 25, 2, 26], [4, 27, 28, 1, 29], [1, 30, 2, 31], [1, 8, 32, 1, 33, 2, 34], [4, 35, 36, 1, 37], [1, 38, 2, 39], [1, 40, 2, 41]]\n",
      "[[ 5 10  6  7  0  0  0]\n",
      " [ 6  7  3 11  0  0  0]\n",
      " [ 1 12  2 13  0  0  0]\n",
      " [ 5 14 15  0  0  0  0]\n",
      " [16 17  8  0  0  0  0]\n",
      " [ 1 18  9  3 19  0  0]\n",
      " [ 4 20 21  9  0  0  0]\n",
      " [ 1 22 23  3 24  0  0]\n",
      " [ 1 25  2 26  0  0  0]\n",
      " [ 4 27 28  1 29  0  0]\n",
      " [ 1 30  2 31  0  0  0]\n",
      " [ 1  8 32  1 33  2 34]\n",
      " [ 4 35 36  1 37  0  0]\n",
      " [ 1 38  2 39  0  0  0]\n",
      " [ 1 40  2 41  0  0  0]]\n",
      "41\n",
      "7\n",
      "Epoch 1/10\n",
      "12/12 [==============================] - 2s 3ms/step - loss: 1.0809 - accuracy: 0.2500 \n",
      "Epoch 2/10\n",
      "12/12 [==============================] - 0s 3ms/step - loss: 0.9731 - accuracy: 0.5833\n",
      "Epoch 3/10\n",
      "12/12 [==============================] - 0s 3ms/step - loss: 0.8863 - accuracy: 0.7500\n",
      "Epoch 4/10\n",
      "12/12 [==============================] - 0s 3ms/step - loss: 0.7886 - accuracy: 0.8333\n",
      "Epoch 5/10\n",
      "12/12 [==============================] - 0s 3ms/step - loss: 0.6906 - accuracy: 0.8333\n",
      "Epoch 6/10\n",
      "12/12 [==============================] - 0s 3ms/step - loss: 0.5696 - accuracy: 1.0000\n",
      "Epoch 7/10\n",
      "12/12 [==============================] - 0s 3ms/step - loss: 0.4181 - accuracy: 1.0000\n",
      "Epoch 8/10\n",
      "12/12 [==============================] - 0s 3ms/step - loss: 0.2604 - accuracy: 1.0000\n",
      "Epoch 9/10\n",
      "12/12 [==============================] - 0s 3ms/step - loss: 0.1638 - accuracy: 1.0000\n",
      "Epoch 10/10\n",
      "12/12 [==============================] - 0s 4ms/step - loss: 0.1183 - accuracy: 1.0000\n",
      "Test Accuracy: 33.33%\n"
     ]
    }
   ],
   "source": [
    "import numpy as np\n",
    "from tensorflow.keras.models import Sequential\n",
    "from tensorflow.keras.layers import SimpleRNN, Dense, Embedding\n",
    "from tensorflow.keras.preprocessing.text import Tokenizer\n",
    "from sklearn.model_selection import train_test_split\n",
    "# Sample dataset\n",
    "texts=[\"I love this movie!\",\n",
    "           \"This movie is terrible.\",\n",
    "           \"The food was amazing.\",\n",
    "           \"I hate Mondays.\",\n",
    "           \"Great customer service.\",\n",
    "           \"The weather today is awful.\",\n",
    "           \"I'm feeling happy today.\",\n",
    "           \"The new restaurant is disappointing.\",\n",
    "           \"The book was captivating.\",\n",
    "           \"I'm frustrated with the traffic.\",\n",
    "           \"The concert was fantastic.\",\n",
    "           \"The service at the hotel was poor.\",\n",
    "           \"I'm indifferent about the outcome.\",\n",
    "           \"The presentation was boring.\",\n",
    "           \"The vacation was unforgettable.\"]\n",
    "# Corresponding sentiment labels (0 for negative, 1 for neutral, 2 for positive)\n",
    "sentiments =[2, 0, 2, 0, 2,\n",
    "                0, 2, 0, 2, 0,\n",
    "                2, 0, 1, 0, 2]\n",
    "from tensorflow.keras.preprocessing.sequence import pad_sequences\n",
    "# Convert names to numerical representation\n",
    "tokenizer = Tokenizer(char_level=False)\n",
    "tokenizer.fit_on_texts(texts)\n",
    "print(\"Vocabulary:\", tokenizer.word_index)\n",
    "# Convert names to numerical representation\n",
    "X = tokenizer.texts_to_sequences(texts)\n",
    "print(X)\n",
    "# Pad sequences to a fixed length\n",
    "max_length = max(len(seq) for seq in X)\n",
    "X = pad_sequences(X, maxlen=max_length, padding='post')\n",
    "print(X)\n",
    "# Convert to numpy array\n",
    "X = np.array(X)\n",
    "\n",
    "# One-hot encode genders\n",
    "#y = np.array([1 if gender == 'male' else 0 for gender in genders])\n",
    "y=np.array(sentiments)\n",
    "# Split dataset into training and testing sets\n",
    "X_train, X_test, y_train, y_test = train_test_split(X, y, test_size=0.2, random_state=42)\n",
    "print(len(tokenizer.word_index))\n",
    "print(X.shape[1])\n",
    "# Build SimpleRNN model\n",
    "model = Sequential()\n",
    "model.add(Embedding(input_dim=len(tokenizer.word_index) + 1, output_dim=20, input_length=X.shape[1]))\n",
    "model.add(SimpleRNN(20))\n",
    "model.add(Dense(3, activation='softmax'))\n",
    "\n",
    "# Compile the model\n",
    "model.compile(optimizer='adam', loss='sparse_categorical_crossentropy', metrics=['accuracy'])\n",
    "\n",
    "# Train the model\n",
    "model.fit(X_train, y_train, epochs=10, batch_size=1, verbose=1)\n",
    "\n",
    "# Evaluate the model\n",
    "loss, accuracy = model.evaluate(X_test, y_test, verbose=0)\n",
    "print(f'Test Accuracy: {accuracy * 100:.2f}%')"
   ]
  },
  {
   "cell_type": "code",
   "execution_count": null,
   "metadata": {
    "colab": {
     "base_uri": "https://localhost:8080/"
    },
    "id": "QC2PyRIhTJQ3",
    "outputId": "b524b24d-03c2-477c-f647-dbcfe68372b5"
   },
   "outputs": [
    {
     "name": "stdout",
     "output_type": "stream",
     "text": [
      "1/1 [==============================] - 0s 197ms/step\n",
      "Text: I love this movie! - Predicted Sentiment: Negative\n",
      "Text: I'm feeling sad today. - Predicted Sentiment: Positive\n",
      "Text: The restaurant was okay. - Predicted Sentiment: Positive\n",
      "Text: The concert was amazing! - Predicted Sentiment: Positive\n"
     ]
    }
   ],
   "source": [
    "# Sample text data for prediction\n",
    "texts_to_predict = [\"I love this movie!\",\n",
    "                    \"I'm feeling sad today.\",\n",
    "                    \"The restaurant was okay.\",\n",
    "                    \"The concert was amazing!\"]\n",
    "# Convert texts to numerical representation\n",
    "X_predict = tokenizer.texts_to_sequences(texts_to_predict)\n",
    "# Pad sequences to a fixed length\n",
    "X_predict = pad_sequences(X_predict, maxlen=max_length, padding='post')\n",
    "# Predict sentiment for the texts\n",
    "predictions = model.predict(X_predict)\n",
    "# Decode the predictions\n",
    "sentiment_mapping = {0: 'Negative', 1: 'Neutral', 2: 'Positive'}\n",
    "decoded_predictions = [sentiment_mapping[np.argmax(pred)] for pred in predictions]\n",
    "# Display the predicted sentiments\n",
    "for text, sentiment in zip(texts_to_predict, decoded_predictions):\n",
    "    print(f'Text: {text} - Predicted Sentiment: {sentiment}')\n"
   ]
  },
  {
   "cell_type": "code",
   "execution_count": null,
   "metadata": {
    "id": "AM-D2e1QTvC5"
   },
   "outputs": [],
   "source": []
  }
 ],
 "metadata": {
  "colab": {
   "provenance": []
  },
  "kernelspec": {
   "display_name": "Python 3 (ipykernel)",
   "language": "python",
   "name": "python3"
  },
  "language_info": {
   "codemirror_mode": {
    "name": "ipython",
    "version": 3
   },
   "file_extension": ".py",
   "mimetype": "text/x-python",
   "name": "python",
   "nbconvert_exporter": "python",
   "pygments_lexer": "ipython3",
   "version": "3.12.7"
  }
 },
 "nbformat": 4,
 "nbformat_minor": 4
}
